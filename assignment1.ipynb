{
 "cells": [
  {
   "cell_type": "code",
   "execution_count": null,
   "id": "c6e0ca3b",
   "metadata": {},
   "outputs": [],
   "source": [
    "1\n",
    "(i) name = \"chandan\"\n",
    "(ii) list_name = [7,8,9,10]\n",
    "(iii)  z = 7.8\n",
    "(iv) x =(7,86)\n"
   ]
  },
  {
   "cell_type": "code",
   "execution_count": null,
   "id": "7d425534",
   "metadata": {},
   "outputs": [],
   "source": [
    "2\n",
    "(i) string\n",
    "(ii) string\n",
    "(iii) List\n",
    "(iv)  float"
   ]
  },
  {
   "cell_type": "code",
   "execution_count": null,
   "id": "4e8f4c29",
   "metadata": {},
   "outputs": [],
   "source": [
    "3\n",
    "(i)\n",
    "/- divison operator\n",
    "example-6/3=2\n",
    "\n",
    "\n",
    "(ii)\n",
    "%-Modules opertaor use for find remainder\n",
    "example- 7%3=1\n",
    "\n",
    "(iii)\n",
    "//-floor divison opertor\n",
    "example -num1 = 12\n",
    "num2 = 5\n",
    "num3 = num1 // num2\n",
    "\n",
    "print(\"floor division of\", num1, \"by\", num2, \"=\", num3)\n",
    "# Output: floor division of 12 by 5 = 2\n",
    "\n",
    "(iv)\n",
    "**- exponent operator\n",
    "example- 2**3=8\n"
   ]
  },
  {
   "cell_type": "code",
   "execution_count": 1,
   "id": "17711103",
   "metadata": {},
   "outputs": [
    {
     "name": "stdout",
     "output_type": "stream",
     "text": [
      "7\n",
      "<class 'int'>\n",
      "8.9\n",
      "<class 'float'>\n",
      "yaju\n",
      "<class 'str'>\n",
      "True\n",
      "<class 'bool'>\n",
      "False\n",
      "<class 'bool'>\n",
      "[78, 89, 88]\n",
      "<class 'list'>\n",
      "(1, 2, 32)\n",
      "<class 'tuple'>\n",
      "7.888\n",
      "<class 'float'>\n",
      "0\n",
      "<class 'int'>\n",
      "{7: 9}\n",
      "<class 'dict'>\n"
     ]
    }
   ],
   "source": [
    "#4\n",
    "chandan =[7,8.9,\"yaju\",True,False,[78,89,88],(1,2,32),7.888,8+9j,{7:9}]\n",
    "for i in chandan:\n",
    "    print(i,type(i))"
   ]
  },
  {
   "cell_type": "code",
   "execution_count": 2,
   "id": "8acfa5aa",
   "metadata": {},
   "outputs": [
    {
     "name": "stdout",
     "output_type": "stream",
     "text": [
      "4\n",
      "5\n",
      "a is not divisible by b\n"
     ]
    }
   ],
   "source": [
    "#5\n",
    "a=int(input())\n",
    "b=int(input())\n",
    "while a%b==0:\n",
    "    print('a is divisible by b', 'and a is divisible by b for', a/b, 'times')\n",
    "    break\n",
    "else:\n",
    "    print('a is not divisible by b')\n"
   ]
  },
  {
   "cell_type": "code",
   "execution_count": 9,
   "id": "5563b9d2",
   "metadata": {},
   "outputs": [
    {
     "name": "stdout",
     "output_type": "stream",
     "text": [
      "1 is divisible not by 3\n",
      "2 is divisible not by 3\n",
      "3 is divisible not by 3\n",
      "4 is divisible not by 3\n",
      "5 is divisible not by 3\n",
      "6 is divisible not by 3\n",
      "7 is divisible not by 3\n",
      "8 is divisible not by 3\n",
      "9 is divisible not by 3\n",
      "10 is divisible not by 3\n",
      "11 is divisible not by 3\n",
      "12 is divisible not by 3\n",
      "13 is divisible not by 3\n",
      "14 is divisible not by 3\n",
      "15 is divisible not by 3\n",
      "16 is divisible not by 3\n",
      "17 is divisible not by 3\n",
      "18 is divisible not by 3\n",
      "19 is divisible not by 3\n",
      "20 is divisible not by 3\n",
      "21 is divisible not by 3\n",
      "22 is divisible not by 3\n",
      "23 is divisible not by 3\n",
      "24 is divisible not by 3\n",
      "25 is divisible not by 3\n"
     ]
    }
   ],
   "source": [
    "#6\n",
    "a= [1,2,3,4,5,6,7,8,9,10,11,12,13,14,15,16,17,18,19,20,21,22,23,24,25]\n",
    "\n",
    "for i in a:\n",
    "    if i/3==0:\n",
    "        print(i, 'is divisible by 3')\n",
    "    else:\n",
    "        print(i, 'is divisible not by 3')\n",
    "        "
   ]
  },
  {
   "cell_type": "code",
   "execution_count": 10,
   "id": "fd2ce9fa",
   "metadata": {},
   "outputs": [
    {
     "ename": "SyntaxError",
     "evalue": "invalid syntax (2232434913.py, line 9)",
     "output_type": "error",
     "traceback": [
      "\u001b[1;36m  Cell \u001b[1;32mIn[10], line 9\u001b[1;36m\u001b[0m\n\u001b[1;33m    NameError                                 Traceback (most recent call last)\u001b[0m\n\u001b[1;37m                                              ^\u001b[0m\n\u001b[1;31mSyntaxError\u001b[0m\u001b[1;31m:\u001b[0m invalid syntax\n"
     ]
    }
   ],
   "source": [
    "#7\n",
    "#Immutable date type: A data type which cannot be eddited, which means we cannot do any changes in terms of adding, removing, replacing with the help of index value.\n",
    "#example\n",
    "a='shoaib, 3, 4'\n",
    "type(a)\n",
    "str\n",
    "\n",
    "a[0]=p\n",
    "NameError                                 Traceback (most recent call last)\n",
    "Cell In[32], line 1\n",
    "----> 1 a[0]=p\n",
    "\n",
    "NameError: name 'p' is not defined\n",
    "\n",
    "#Mutable data type: A data type which can be eddited, which means we can do any changes in terms of adding, removing, replacing with the help of index value.\n",
    "b=[10,5.6,'chandan']\n",
    "type(b)\n",
    "list\n",
    "b[0]=50\n",
    "b\n",
    "[50, 5.6, 'chandan']"
   ]
  },
  {
   "cell_type": "code",
   "execution_count": null,
   "id": "0acef143",
   "metadata": {},
   "outputs": [],
   "source": []
  }
 ],
 "metadata": {
  "kernelspec": {
   "display_name": "Python 3 (ipykernel)",
   "language": "python",
   "name": "python3"
  },
  "language_info": {
   "codemirror_mode": {
    "name": "ipython",
    "version": 3
   },
   "file_extension": ".py",
   "mimetype": "text/x-python",
   "name": "python",
   "nbconvert_exporter": "python",
   "pygments_lexer": "ipython3",
   "version": "3.11.3"
  }
 },
 "nbformat": 4,
 "nbformat_minor": 5
}
